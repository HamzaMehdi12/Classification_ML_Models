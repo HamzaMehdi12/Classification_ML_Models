{
 "cells": [
  {
   "cell_type": "markdown",
   "id": "aa1542eb-e11b-41e6-95be-ed3f77f2e5f2",
   "metadata": {},
   "source": [
    "# Fraud Email Detection\n",
    "This project discusses the use of Fraud email detection."
   ]
  },
  {
   "cell_type": "code",
   "execution_count": 12,
   "id": "517f3fc1-33a5-4ec6-8244-3baeeb958411",
   "metadata": {},
   "outputs": [],
   "source": [
    "#Importing relevant frameworks and classes\n",
    "import torch\n",
    "import pandas as pd\n",
    "import numpy as np\n",
    "import matplotlib.pyplot as plt\n",
    "import seaborn as sns\n",
    "from sklearn.model_selection import train_test_split\n",
    "from sklearn.metrics import accuracy_score, classification_report, confusion_matrix, f1_score\n",
    "from sklearn.utils.class_weight import compute_class_weight\n",
    "from transformers import BertTokenizer, BertForSequenceClassification\n",
    "from torch.optim import AdamW\n",
    "from torch.utils.data import Dataset, DataLoader\n",
    "from torch.nn import CrossEntropyLoss"
   ]
  },
  {
   "cell_type": "code",
   "execution_count": 13,
   "id": "67fcaaf4-4218-45b7-b6a2-b7c36a6871d4",
   "metadata": {},
   "outputs": [],
   "source": [
    "#Lets start with configuring environment\n",
    "RANDOM_SEED = 42\n",
    "MAX_LEN = 256\n",
    "BATCH_SIZE = 8\n",
    "EPOCHS = 10\n",
    "LEARNING_RATE = 3e-5\n",
    "DEVICE = torch.device('cuda' if torch.cuda.is_available() else 'cpu')"
   ]
  },
  {
   "cell_type": "code",
   "execution_count": 14,
   "id": "7b0cb41c-d6fa-4119-b407-b25841da211a",
   "metadata": {},
   "outputs": [],
   "source": [
    "#Importing datasets\n",
    "df = pd.read_csv('emails.csv')\n",
    "df = df.drop_duplicates().sample(frac=1).reset_index(drop=True)"
   ]
  },
  {
   "cell_type": "code",
   "execution_count": 15,
   "id": "79d9c5e8-361f-496a-bb39-24ea6c00864f",
   "metadata": {},
   "outputs": [
    {
     "ename": "NameError",
     "evalue": "name 'torh' is not defined",
     "output_type": "error",
     "traceback": [
      "\u001b[1;31m---------------------------------------------------------------------------\u001b[0m",
      "\u001b[1;31mNameError\u001b[0m                                 Traceback (most recent call last)",
      "Cell \u001b[1;32mIn[15], line 18\u001b[0m\n\u001b[0;32m      8\u001b[0m val_texts, test_texts, val_labels, test_labels \u001b[38;5;241m=\u001b[39m train_test_split(\n\u001b[0;32m      9\u001b[0m     temp_texts, temp_labels,\n\u001b[0;32m     10\u001b[0m     test_size \u001b[38;5;241m=\u001b[39m \u001b[38;5;241m0.5\u001b[39m,\n\u001b[0;32m     11\u001b[0m     random_state \u001b[38;5;241m=\u001b[39m RANDOM_SEED\n\u001b[0;32m     12\u001b[0m )\n\u001b[0;32m     13\u001b[0m class_weights \u001b[38;5;241m=\u001b[39m compute_class_weight(\n\u001b[0;32m     14\u001b[0m     \u001b[38;5;124m'\u001b[39m\u001b[38;5;124mbalanced\u001b[39m\u001b[38;5;124m'\u001b[39m,\n\u001b[0;32m     15\u001b[0m     classes \u001b[38;5;241m=\u001b[39m np\u001b[38;5;241m.\u001b[39munique(train_labels),\n\u001b[0;32m     16\u001b[0m     y \u001b[38;5;241m=\u001b[39m train_labels\n\u001b[0;32m     17\u001b[0m )\n\u001b[1;32m---> 18\u001b[0m class_weights \u001b[38;5;241m=\u001b[39m torch\u001b[38;5;241m.\u001b[39mtensor(class_weights, dtype \u001b[38;5;241m=\u001b[39m \u001b[43mtorh\u001b[49m\u001b[38;5;241m.\u001b[39mfloat)\u001b[38;5;241m.\u001b[39mto(DEVICE)\n",
      "\u001b[1;31mNameError\u001b[0m: name 'torh' is not defined"
     ]
    }
   ],
   "source": [
    "#Splitting datasets\n",
    "train_texts, temp_texts, train_labels, temp_labels = train_test_split(\n",
    "    df['email_text'], df['labels'],\n",
    "    test_size = 0.2,\n",
    "    random_state = RANDOM_SEED,\n",
    "    stratify = df['labels'] #stratification\n",
    ")\n",
    "val_texts, test_texts, val_labels, test_labels = train_test_split(\n",
    "    temp_texts, temp_labels,\n",
    "    test_size = 0.5,\n",
    "    random_state = RANDOM_SEED\n",
    ")\n",
    "class_weights = compute_class_weight(\n",
    "    'balanced',\n",
    "    classes = np.unique(train_labels),\n",
    "    y = train_labels\n",
    ")\n",
    "class_weights = torch.tensor(class_weights, dtype = torh.float).to(DEVICE)"
   ]
  },
  {
   "cell_type": "code",
   "execution_count": 16,
   "id": "b7e82fdb-3fa6-42b5-9339-ecce3251b891",
   "metadata": {},
   "outputs": [],
   "source": [
    "# collate function\n",
    "def collate_fn(batch):\n",
    "    return {\n",
    "        'input_ids': torch.stack([item['input_ids'] for item in batch]),\n",
    "        'attention_mask': torch.stack([item['attention_mask'] for item in batch]),\n",
    "        'label': torch.tensor([item['label'] for item in batch])\n",
    "    }\n",
    "#Initializing BERT Tokenizer\n",
    "tokenizer =  BertTokenizer.from_pretrained('bert-base-uncased')\n",
    "class EmailDataset(Dataset):\n",
    "    def __init__(self, texts, labels, tokenizer, max_len):\n",
    "        self.texts = texts.reset_index(drop=True)\n",
    "        self.labels = labels.reset_index(drop=True)\n",
    "        self.tokenizer = tokenizer\n",
    "        self.max_len = max_len\n",
    "        \n",
    "    def __len__(self):\n",
    "        return len(self.texts)\n",
    "    \n",
    "    def __getitem__(self, idx):\n",
    "        text = str(self.texts[idx])\n",
    "        label = self.labels[idx]\n",
    "        \n",
    "        encoding = self.tokenizer(\n",
    "            text,\n",
    "            add_special_tokens=True,\n",
    "            max_length=self.max_len,\n",
    "            padding='max_length',\n",
    "            truncation=True,\n",
    "            return_attention_mask=True,\n",
    "            return_tensors='pt',\n",
    "        )\n",
    "        \n",
    "        return {\n",
    "            'input_ids': encoding['input_ids'].squeeze(),\n",
    "            'attention_mask': encoding['attention_mask'].squeeze(),\n",
    "            'label': torch.tensor(label, dtype=torch.long)\n",
    "        }"
   ]
  },
  {
   "cell_type": "code",
   "execution_count": 17,
   "id": "a342b0a1-892e-4f80-8363-de116df5cd7a",
   "metadata": {},
   "outputs": [],
   "source": [
    "#Creating Dataloaders\n",
    "train_dataset = EmailDataset(train_texts, train_labels, tokenizer, MAX_LEN)\n",
    "val_dataset = EmailDataset(val_texts, val_labels, tokenizer, MAX_LEN)\n",
    "test_dataset = EmailDataset(test_texts, test_labels, tokenizer, MAX_LEN)\n",
    "\n",
    "train_loader = DataLoader(\n",
    "    train_dataset,\n",
    "    batch_size=BATCH_SIZE,\n",
    "    shuffle=True,\n",
    "    collate_fn=collate_fn\n",
    ")\n",
    "val_loader = DataLoader(\n",
    "    val_dataset,\n",
    "    batch_size=BATCH_SIZE,\n",
    "    collate_fn=collate_fn\n",
    ")\n",
    "test_loader = DataLoader(\n",
    "    test_dataset,\n",
    "    batch_size=BATCH_SIZE,\n",
    "    collate_fn=collate_fn\n",
    ")"
   ]
  },
  {
   "cell_type": "code",
   "execution_count": 19,
   "id": "59f282af-bfb8-48d6-8abe-1d4ac7fcc638",
   "metadata": {},
   "outputs": [
    {
     "name": "stderr",
     "output_type": "stream",
     "text": [
      "Some weights of BertForSequenceClassification were not initialized from the model checkpoint at bert-base-uncased and are newly initialized: ['classifier.bias', 'classifier.weight']\n",
      "You should probably TRAIN this model on a down-stream task to be able to use it for predictions and inference.\n"
     ]
    }
   ],
   "source": [
    "#Model Initialization\n",
    "class_counts = df['labels'].value_counts().to_list()\n",
    "class_weights = 1 / torch.tensor(class_counts, dtype = torch.float)\n",
    "class_weights = class_weights.to(DEVICE)\n",
    "\n",
    "model = BertForSequenceClassification.from_pretrained(\n",
    "    'bert-base-uncased',\n",
    "    num_labels = 2,\n",
    "    output_attentions = False,\n",
    "    output_hidden_states = False\n",
    ")\n",
    "model = model.to(DEVICE)"
   ]
  },
  {
   "cell_type": "code",
   "execution_count": 20,
   "id": "82c1a5ce-a956-4860-86ae-20207e6281b8",
   "metadata": {},
   "outputs": [],
   "source": [
    "#Optimizers and Schedulers\n",
    "optimizer = AdamW(model.parameters(), lr=LEARNING_RATE, weight_decay = 0.01)\n",
    "total_steps = len(train_loader) * EPOCHS\n",
    "scheduler = torch.optim.lr_scheduler.CosineAnnealingLR(optimizer, T_max = total_steps)"
   ]
  },
  {
   "cell_type": "code",
   "execution_count": 21,
   "id": "bfd75801-177d-4628-b5fe-2c4eb2e452e5",
   "metadata": {},
   "outputs": [],
   "source": [
    "#Early Stopping\n",
    "best_val_loss = float('inf')\n",
    "patience = 3\n",
    "patience_counter = 0"
   ]
  },
  {
   "cell_type": "code",
   "execution_count": 22,
   "id": "9f5022d6-0a3e-4bc2-b0c7-35f054c5336d",
   "metadata": {},
   "outputs": [
    {
     "name": "stdout",
     "output_type": "stream",
     "text": [
      "Epoch 1/10\n",
      "Train Loss:  0.6875 | Val loss:  0.6205\n",
      "Epoch 2/10\n",
      "Train Loss:  0.6285 | Val loss:  0.5969\n",
      "Epoch 3/10\n",
      "Train Loss:  0.5450 | Val loss:  0.5268\n",
      "Epoch 4/10\n",
      "Train Loss:  0.4521 | Val loss:  0.4691\n",
      "Epoch 5/10\n",
      "Train Loss:  0.3854 | Val loss:  0.4509\n",
      "Epoch 6/10\n",
      "Train Loss:  0.2988 | Val loss:  0.4462\n",
      "Epoch 7/10\n",
      "Train Loss:  0.2574 | Val loss:  0.4340\n",
      "Epoch 8/10\n",
      "Train Loss:  0.2570 | Val loss:  0.4182\n",
      "Epoch 9/10\n",
      "Train Loss:  0.2253 | Val loss:  0.4086\n",
      "Epoch 10/10\n",
      "Train Loss:  0.2161 | Val loss:  0.4064\n"
     ]
    }
   ],
   "source": [
    "#Training loop with validation\n",
    "train_losses = []\n",
    "val_losses = []\n",
    "val_accuracies = []\n",
    "\n",
    "for epoch in range(EPOCHS):\n",
    "    model.train()\n",
    "    epoch_train_loss = 0\n",
    "    for batch in train_loader:\n",
    "        optimizer.zero_grad()\n",
    "\n",
    "        input_ids = batch['input_ids'].to(DEVICE)\n",
    "        attention_mask = batch['attention_mask'].to(DEVICE)\n",
    "        labels = batch['label'].to(DEVICE)\n",
    "\n",
    "        outputs = model(\n",
    "            input_ids,\n",
    "            attention_mask = attention_mask,\n",
    "            labels = labels\n",
    "        )\n",
    "        loss_fct = CrossEntropyLoss(weight = class_weights)\n",
    "        loss = loss_fct(outputs.logits, labels)\n",
    "        epoch_train_loss += loss.item()\n",
    "\n",
    "        loss.backward()\n",
    "        torch.nn.utils.clip_grad_norm_(model.parameters(), 1.0)\n",
    "        optimizer.step()\n",
    "        scheduler.step()\n",
    "    avg_train_loss = epoch_train_loss / len(train_loader)\n",
    "    train_losses.append(avg_train_loss)\n",
    "\n",
    "    model.eval()\n",
    "    epoch_val_loss = 0\n",
    "    correct_predictions = 0\n",
    "\n",
    "    with torch.no_grad():\n",
    "        for batch in val_loader:\n",
    "            input_ids = batch['input_ids'].to(DEVICE)\n",
    "            attention_mask = batch['attention_mask'].to(DEVICE)\n",
    "            labels = batch['label'].to(DEVICE)\n",
    "\n",
    "            outputs = model(\n",
    "                input_ids,\n",
    "                attention_mask = attention_mask,\n",
    "                labels = labels\n",
    "            )\n",
    "            loss = outputs.loss\n",
    "            epoch_val_loss += loss.item()\n",
    "            _, preds = torch.max(outputs.logits, dim = 1)\n",
    "            correct_predictions += torch.sum(preds == labels)\n",
    "    \n",
    "    avg_val_loss = epoch_val_loss / len(val_loader)\n",
    "    val_losses.append(avg_val_loss)\n",
    "\n",
    "    val_accuracy = correct_predictions.double() / len(val_dataset)\n",
    "    val_accuracies.append(val_accuracy)\n",
    "\n",
    "    print(f'Epoch {epoch + 1}/{EPOCHS}')\n",
    "    print(f'Train Loss: {avg_train_loss: .4f} | Val loss: {avg_val_loss: .4f}')\n",
    "\n",
    "    #Early Stopping\n",
    "    if avg_val_loss < best_val_loss:\n",
    "        best_val_loss = avg_val_loss\n",
    "        patience_counter = 0\n",
    "        torch.save(model.state_dict(), 'best_model.bin')\n",
    "    else:\n",
    "        patience_counter += 1\n",
    "        if patience_counter >= patience:\n",
    "            print(\"Early stopping triggerd\")\n",
    "            break"
   ]
  },
  {
   "cell_type": "code",
   "execution_count": 23,
   "id": "2f6abcd4-3f78-4f30-9a06-04fd1954aaac",
   "metadata": {},
   "outputs": [],
   "source": [
    "#Evaluatng Test set\n",
    "model.load_state_dict(torch.load('best_model.bin'))\n",
    "model.eval()\n",
    "\n",
    "test_preds = []\n",
    "test_labels = []\n",
    "\n",
    "with torch.no_grad():\n",
    "    for batch in test_loader:\n",
    "        input_ids = batch['input_ids'].to(DEVICE)\n",
    "        attention_mask = batch['attention_mask'].to(DEVICE)\n",
    "        labels = batch['label'].to(DEVICE)\n",
    "\n",
    "        outputs = model(\n",
    "            input_ids,\n",
    "            attention_mask = attention_mask\n",
    "        )\n",
    "\n",
    "        _, preds = torch.max(outputs.logits, dim = 1)\n",
    "        test_preds.extend(preds.cpu().numpy())\n",
    "        test_labels.extend(labels.cpu().numpy())\n",
    "test_accuracy = accuracy_score(test_labels, test_preds)\n",
    "test_f1 = f1_score(test_labels, test_preds, average = 'weighted')"
   ]
  },
  {
   "cell_type": "code",
   "execution_count": 24,
   "id": "ccb0abc1-3150-4fc0-a2f3-a302b239f098",
   "metadata": {},
   "outputs": [
    {
     "name": "stdout",
     "output_type": "stream",
     "text": [
      "Test Results\n",
      "Accuracy:  0.5000\n",
      "F1 Score: 0.0000\n",
      "              precision    recall  f1-score   support\n",
      "\n",
      "           0       0.50      1.00      0.67         1\n",
      "           1       0.00      0.00      0.00         1\n",
      "\n",
      "    accuracy                           0.50         2\n",
      "   macro avg       0.25      0.50      0.33         2\n",
      "weighted avg       0.25      0.50      0.33         2\n",
      "\n",
      "Confusion Matrix:\n",
      "[[1 0]\n",
      " [1 0]]\n"
     ]
    },
    {
     "name": "stderr",
     "output_type": "stream",
     "text": [
      "C:\\Users\\ihpc\\AppData\\Roaming\\Python\\Python312\\site-packages\\sklearn\\metrics\\_classification.py:1565: UndefinedMetricWarning: Precision is ill-defined and being set to 0.0 in labels with no predicted samples. Use `zero_division` parameter to control this behavior.\n",
      "  _warn_prf(average, modifier, f\"{metric.capitalize()} is\", len(result))\n",
      "C:\\Users\\ihpc\\AppData\\Roaming\\Python\\Python312\\site-packages\\sklearn\\metrics\\_classification.py:1565: UndefinedMetricWarning: Precision is ill-defined and being set to 0.0 in labels with no predicted samples. Use `zero_division` parameter to control this behavior.\n",
      "  _warn_prf(average, modifier, f\"{metric.capitalize()} is\", len(result))\n",
      "C:\\Users\\ihpc\\AppData\\Roaming\\Python\\Python312\\site-packages\\sklearn\\metrics\\_classification.py:1565: UndefinedMetricWarning: Precision is ill-defined and being set to 0.0 in labels with no predicted samples. Use `zero_division` parameter to control this behavior.\n",
      "  _warn_prf(average, modifier, f\"{metric.capitalize()} is\", len(result))\n"
     ]
    },
    {
     "data": {
      "image/png": "[encoded data removed]",
      "text/plain": [
       "<Figure size 1200x600 with 2 Axes>"
      ]
     },
     "metadata": {},
     "output_type": "display_data"
    }
   ],
   "source": [
    "#Printing results\n",
    "print(\"Test Results\")\n",
    "print(f\"Accuracy: {accuracy_score(test_labels, test_preds): .4f}\")\n",
    "print(f\"F1 Score: {f1_score(test_labels, test_preds):.4f}\")\n",
    "print(classification_report(test_labels, test_preds))\n",
    "print(\"Confusion Matrix:\")\n",
    "print(confusion_matrix(test_labels, test_preds))\n",
    "\n",
    "#Visualization\n",
    "plt.figure(figsize = (12,6))\n",
    "plt.subplot(1, 2, 1)\n",
    "plt.plot(train_losses, label = 'Training Loss')\n",
    "plt.plot(val_losses, label = 'Validation Loss')\n",
    "plt.title('Training and Validation Loss')\n",
    "plt.xlabel('Epochs')\n",
    "plt.ylabel('Loss')\n",
    "plt.legend()\n",
    "\n",
    "plt.subplot(1, 2, 2)\n",
    "plt.plot(val_accuracies, label = 'Validation Accuracy')\n",
    "plt.title('Validation Accuracy')\n",
    "plt.xlabel('Epochs')\n",
    "plt.ylabel('Accuracy')\n",
    "plt.legend()\n",
    "\n",
    "plt.tight_layout()\n",
    "plt.show()"
   ]
  }
 ],
 "metadata": {
  "kernelspec": {
   "display_name": "Python 3 (ipykernel)",
   "language": "python",
   "name": "python3"
  },
  "language_info": {
   "codemirror_mode": {
    "name": "ipython",
    "version": 3
   },
   "file_extension": ".py",
   "mimetype": "text/x-python",
   "name": "python",
   "nbconvert_exporter": "python",
   "pygments_lexer": "ipython3",
   "version": "3.12.6"
  }
 },
 "nbformat": 4,
 "nbformat_minor": 5
}
